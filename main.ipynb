{
  "nbformat": 4,
  "nbformat_minor": 0,
  "metadata": {
    "colab": {
      "name": "Untitled6.ipynb",
      "provenance": [],
      "collapsed_sections": []
    },
    "kernelspec": {
      "name": "python3",
      "display_name": "Python 3"
    },
    "accelerator": "GPU"
  },
  "cells": [
    {
      "cell_type": "code",
      "metadata": {
        "id": "ic-67TDrQESJ",
        "colab_type": "code",
        "outputId": "3aecf162-f75c-43f9-9668-19491b3fd9fd",
        "colab": {
          "base_uri": "https://localhost:8080/",
          "height": 128
        }
      },
      "source": [
        "from google.colab import drive\n",
        "drive.mount('/content/drive')"
      ],
      "execution_count": 0,
      "outputs": [
        {
          "output_type": "stream",
          "text": [
            "Go to this URL in a browser: https://accounts.google.com/o/oauth2/auth?client_id=947318989803-6bn6qk8qdgf4n4g3pfee6491hc0brc4i.apps.googleusercontent.com&redirect_uri=urn%3aietf%3awg%3aoauth%3a2.0%3aoob&response_type=code&scope=email%20https%3a%2f%2fwww.googleapis.com%2fauth%2fdocs.test%20https%3a%2f%2fwww.googleapis.com%2fauth%2fdrive%20https%3a%2f%2fwww.googleapis.com%2fauth%2fdrive.photos.readonly%20https%3a%2f%2fwww.googleapis.com%2fauth%2fpeopleapi.readonly\n",
            "\n",
            "Enter your authorization code:\n",
            "··········\n",
            "Mounted at /content/drive\n"
          ],
          "name": "stdout"
        }
      ]
    },
    {
      "cell_type": "code",
      "metadata": {
        "id": "h_96EQbCQLw3",
        "colab_type": "code",
        "colab": {}
      },
      "source": [
        "import os\n",
        "import zipfile\n",
        "\n",
        "local_zip = '/content/drive/My Drive/My Programs/3class.zip'\n",
        "zip_ref = zipfile.ZipFile(local_zip, 'r')\n",
        "zip_ref.extractall('/tmp2/')\n",
        "zip_ref.close()"
      ],
      "execution_count": 0,
      "outputs": []
    },
    {
      "cell_type": "code",
      "metadata": {
        "id": "SB2rBiqAQYL_",
        "colab_type": "code",
        "outputId": "d03f0a82-d5f4-455c-c526-fe5f6e943943",
        "colab": {
          "base_uri": "https://localhost:8080/",
          "height": 54
        }
      },
      "source": [
        "import tensorflow as tf\n",
        "import keras_preprocessing\n",
        "from keras_preprocessing import image\n",
        "from keras_preprocessing.image import ImageDataGenerator\n",
        "\n",
        "TRAINING_DIR = \"/tmp2/Training\"\n",
        "\n",
        "training_datagen = ImageDataGenerator(rescale = 1./255,\n",
        "                                      width_shift_range=0.2,\n",
        "                                      height_shift_range=0.2,\n",
        "                                      zoom_range=0.2,\n",
        "                                      horizontal_flip=True,\n",
        "                                      fill_mode='nearest')\n",
        "\n",
        "VALIDATION_DIR = \"/tmp2/Validation\"\n",
        "validation_datagen = ImageDataGenerator(rescale = 1./255)\n",
        "\n",
        "train_generator = training_datagen.flow_from_directory(\n",
        "\tTRAINING_DIR,\n",
        "\ttarget_size=(150,150),\n",
        "\tclass_mode='categorical',\n",
        "  batch_size = 256\n",
        ")\n",
        "\n",
        "validation_generator = validation_datagen.flow_from_directory(\n",
        "\tVALIDATION_DIR,\n",
        "\ttarget_size=(150,150),\n",
        "\tclass_mode='categorical',\n",
        "  batch_size= 64\n",
        ")"
      ],
      "execution_count": 0,
      "outputs": [
        {
          "output_type": "stream",
          "text": [
            "Found 9358 images belonging to 3 classes.\n",
            "Found 2338 images belonging to 3 classes.\n"
          ],
          "name": "stdout"
        }
      ]
    },
    {
      "cell_type": "code",
      "metadata": {
        "id": "QmQ6ZoVbQa7R",
        "colab_type": "code",
        "colab": {}
      },
      "source": [
        "from tensorflow.keras.optimizers import RMSprop\n",
        "model = tf.keras.models.Sequential([\n",
        "          tf.keras.layers.Conv2D(16, (3,3), activation='relu', input_shape=(150, 150, 3)),\n",
        "          tf.keras.layers.MaxPooling2D(2,2),\n",
        "          tf.keras.layers.Conv2D(32, (3,3), activation='relu'),\n",
        "          tf.keras.layers.MaxPooling2D(2,2),\n",
        "          tf.keras.layers.Conv2D(64, (3,3), activation='relu'),\n",
        "          tf.keras.layers.MaxPooling2D(2,2),\n",
        "          tf.keras.layers.Flatten(),\n",
        "          tf.keras.layers.Dense(1024, activation='relu'),\n",
        "          tf.keras.layers.Dense(3, activation='softmax')\n",
        "])\n",
        "model.compile(loss='categorical_crossentropy',\n",
        "              optimizer=RMSprop(lr=0.001),\n",
        "              metrics=['acc'])"
      ],
      "execution_count": 0,
      "outputs": []
    },
    {
      "cell_type": "code",
      "metadata": {
        "id": "lT6KJ5jMQfNg",
        "colab_type": "code",
        "outputId": "fb5053de-e6db-42c8-f6b8-1fbdac61f060",
        "colab": {
          "base_uri": "https://localhost:8080/",
          "height": 1000
        }
      },
      "source": [
        "class myCallback(tf.keras.callbacks.Callback):\n",
        "  def on_epoch_end(self, epoch, logs={}):\n",
        "    if(logs.get('val_acc')>=0.6):\n",
        "      print('\\nReached ^50%')\n",
        "      self.model.stop_training = True\n",
        "callbacks = myCallback()\n",
        "\n",
        "history = model.fit(\n",
        "    train_generator,\n",
        "    steps_per_epoch = 36,\n",
        "    epochs = 100,\n",
        "    validation_data = validation_generator,\n",
        "    validation_steps = 36,\n",
        "    callbacks=[callbacks]\n",
        ")"
      ],
      "execution_count": 49,
      "outputs": [
        {
          "output_type": "stream",
          "text": [
            "Epoch 1/100\n",
            "36/36 [==============================] - 52s 1s/step - loss: 2.1252 - acc: 0.3823 - val_loss: 1.0993 - val_acc: 0.3993\n",
            "Epoch 2/100\n",
            "36/36 [==============================] - 51s 1s/step - loss: 1.0793 - acc: 0.4124 - val_loss: 1.1616 - val_acc: 0.3394\n",
            "Epoch 3/100\n",
            "36/36 [==============================] - 51s 1s/step - loss: 1.0688 - acc: 0.4303 - val_loss: 1.0569 - val_acc: 0.4553\n",
            "Epoch 4/100\n",
            "36/36 [==============================] - 51s 1s/step - loss: 1.0560 - acc: 0.4377 - val_loss: 1.0419 - val_acc: 0.4518\n",
            "Epoch 5/100\n",
            "36/36 [==============================] - 51s 1s/step - loss: 1.0565 - acc: 0.4409 - val_loss: 1.0564 - val_acc: 0.4388\n",
            "Epoch 6/100\n",
            "36/36 [==============================] - 51s 1s/step - loss: 1.0481 - acc: 0.4550 - val_loss: 1.0399 - val_acc: 0.4440\n",
            "Epoch 7/100\n",
            "36/36 [==============================] - 51s 1s/step - loss: 1.0349 - acc: 0.4667 - val_loss: 1.0397 - val_acc: 0.4557\n",
            "Epoch 8/100\n",
            "36/36 [==============================] - 51s 1s/step - loss: 1.0356 - acc: 0.4733 - val_loss: 1.0679 - val_acc: 0.4727\n",
            "Epoch 9/100\n",
            "36/36 [==============================] - 50s 1s/step - loss: 1.0305 - acc: 0.4757 - val_loss: 1.0327 - val_acc: 0.4683\n",
            "Epoch 10/100\n",
            "36/36 [==============================] - 51s 1s/step - loss: 1.0285 - acc: 0.4798 - val_loss: 1.0432 - val_acc: 0.4631\n",
            "Epoch 11/100\n",
            "36/36 [==============================] - 51s 1s/step - loss: 1.0155 - acc: 0.4909 - val_loss: 1.0640 - val_acc: 0.4557\n",
            "Epoch 12/100\n",
            "36/36 [==============================] - 51s 1s/step - loss: 1.0208 - acc: 0.4842 - val_loss: 1.0031 - val_acc: 0.5122\n",
            "Epoch 13/100\n",
            "36/36 [==============================] - 51s 1s/step - loss: 1.0093 - acc: 0.4966 - val_loss: 1.0089 - val_acc: 0.5056\n",
            "Epoch 14/100\n",
            "36/36 [==============================] - 51s 1s/step - loss: 1.0115 - acc: 0.4980 - val_loss: 0.9994 - val_acc: 0.5200\n",
            "Epoch 15/100\n",
            "36/36 [==============================] - 51s 1s/step - loss: 1.0046 - acc: 0.5032 - val_loss: 0.9946 - val_acc: 0.5187\n",
            "Epoch 16/100\n",
            "36/36 [==============================] - 51s 1s/step - loss: 0.9971 - acc: 0.5059 - val_loss: 1.0111 - val_acc: 0.4935\n",
            "Epoch 17/100\n",
            "36/36 [==============================] - 51s 1s/step - loss: 1.0005 - acc: 0.5087 - val_loss: 0.9890 - val_acc: 0.5191\n",
            "Epoch 18/100\n",
            "36/36 [==============================] - 51s 1s/step - loss: 0.9917 - acc: 0.5122 - val_loss: 0.9898 - val_acc: 0.5247\n",
            "Epoch 19/100\n",
            "36/36 [==============================] - 51s 1s/step - loss: 0.9919 - acc: 0.5097 - val_loss: 1.0008 - val_acc: 0.5056\n",
            "Epoch 20/100\n",
            "36/36 [==============================] - 50s 1s/step - loss: 0.9948 - acc: 0.5193 - val_loss: 1.0151 - val_acc: 0.5100\n",
            "Epoch 21/100\n",
            "36/36 [==============================] - 51s 1s/step - loss: 0.9841 - acc: 0.5190 - val_loss: 0.9955 - val_acc: 0.5213\n",
            "Epoch 22/100\n",
            "36/36 [==============================] - 51s 1s/step - loss: 0.9762 - acc: 0.5279 - val_loss: 1.0070 - val_acc: 0.5117\n",
            "Epoch 23/100\n",
            "36/36 [==============================] - 51s 1s/step - loss: 0.9857 - acc: 0.5193 - val_loss: 0.9872 - val_acc: 0.5334\n",
            "Epoch 24/100\n",
            "36/36 [==============================] - 51s 1s/step - loss: 0.9734 - acc: 0.5257 - val_loss: 1.0268 - val_acc: 0.5109\n",
            "Epoch 25/100\n",
            "36/36 [==============================] - 51s 1s/step - loss: 0.9755 - acc: 0.5244 - val_loss: 0.9927 - val_acc: 0.5143\n",
            "Epoch 26/100\n",
            "36/36 [==============================] - 51s 1s/step - loss: 0.9721 - acc: 0.5287 - val_loss: 1.0171 - val_acc: 0.5139\n",
            "Epoch 27/100\n",
            "36/36 [==============================] - 51s 1s/step - loss: 0.9695 - acc: 0.5355 - val_loss: 1.0491 - val_acc: 0.4931\n",
            "Epoch 28/100\n",
            "36/36 [==============================] - 51s 1s/step - loss: 0.9612 - acc: 0.5361 - val_loss: 0.9949 - val_acc: 0.5282\n",
            "Epoch 29/100\n",
            "36/36 [==============================] - 51s 1s/step - loss: 0.9621 - acc: 0.5393 - val_loss: 0.9869 - val_acc: 0.5226\n",
            "Epoch 30/100\n",
            "36/36 [==============================] - 51s 1s/step - loss: 0.9640 - acc: 0.5361 - val_loss: 0.9958 - val_acc: 0.5221\n",
            "Epoch 31/100\n",
            "36/36 [==============================] - 51s 1s/step - loss: 0.9627 - acc: 0.5323 - val_loss: 0.9929 - val_acc: 0.5200\n",
            "Epoch 32/100\n",
            "36/36 [==============================] - 51s 1s/step - loss: 0.9568 - acc: 0.5419 - val_loss: 1.0153 - val_acc: 0.5191\n",
            "Epoch 33/100\n",
            "36/36 [==============================] - 51s 1s/step - loss: 0.9502 - acc: 0.5480 - val_loss: 0.9968 - val_acc: 0.5295\n",
            "Epoch 34/100\n",
            "36/36 [==============================] - 51s 1s/step - loss: 0.9508 - acc: 0.5465 - val_loss: 1.0088 - val_acc: 0.5204\n",
            "Epoch 35/100\n",
            "36/36 [==============================] - 51s 1s/step - loss: 0.9476 - acc: 0.5420 - val_loss: 1.0126 - val_acc: 0.5243\n",
            "Epoch 36/100\n",
            "36/36 [==============================] - 51s 1s/step - loss: 0.9477 - acc: 0.5448 - val_loss: 1.0489 - val_acc: 0.5113\n",
            "Epoch 37/100\n",
            "36/36 [==============================] - 51s 1s/step - loss: 0.9389 - acc: 0.5491 - val_loss: 0.9826 - val_acc: 0.5382\n",
            "Epoch 38/100\n",
            "36/36 [==============================] - 51s 1s/step - loss: 0.9431 - acc: 0.5505 - val_loss: 0.9783 - val_acc: 0.5352\n",
            "Epoch 39/100\n",
            "36/36 [==============================] - 51s 1s/step - loss: 0.9390 - acc: 0.5508 - val_loss: 1.0093 - val_acc: 0.5213\n",
            "Epoch 40/100\n",
            "36/36 [==============================] - 51s 1s/step - loss: 0.9246 - acc: 0.5633 - val_loss: 1.1233 - val_acc: 0.4787\n",
            "Epoch 41/100\n",
            "36/36 [==============================] - 51s 1s/step - loss: 0.9342 - acc: 0.5492 - val_loss: 1.0052 - val_acc: 0.5204\n",
            "Epoch 42/100\n",
            "36/36 [==============================] - 51s 1s/step - loss: 0.9289 - acc: 0.5545 - val_loss: 1.0179 - val_acc: 0.5095\n",
            "Epoch 43/100\n",
            "36/36 [==============================] - 51s 1s/step - loss: 0.9213 - acc: 0.5633 - val_loss: 1.0497 - val_acc: 0.5165\n",
            "Epoch 44/100\n",
            "36/36 [==============================] - 51s 1s/step - loss: 0.9243 - acc: 0.5636 - val_loss: 0.9891 - val_acc: 0.5286\n",
            "Epoch 45/100\n",
            "36/36 [==============================] - 51s 1s/step - loss: 0.9135 - acc: 0.5697 - val_loss: 0.9790 - val_acc: 0.5317\n",
            "Epoch 46/100\n",
            "36/36 [==============================] - 51s 1s/step - loss: 0.9139 - acc: 0.5692 - val_loss: 1.0303 - val_acc: 0.5165\n",
            "Epoch 47/100\n",
            "36/36 [==============================] - 51s 1s/step - loss: 0.9082 - acc: 0.5766 - val_loss: 1.0436 - val_acc: 0.5004\n",
            "Epoch 48/100\n",
            "36/36 [==============================] - 51s 1s/step - loss: 0.9061 - acc: 0.5757 - val_loss: 1.0974 - val_acc: 0.5082\n",
            "Epoch 49/100\n",
            "36/36 [==============================] - 51s 1s/step - loss: 0.8981 - acc: 0.5715 - val_loss: 1.0096 - val_acc: 0.5299\n",
            "Epoch 50/100\n",
            "36/36 [==============================] - 51s 1s/step - loss: 0.9005 - acc: 0.5730 - val_loss: 1.0631 - val_acc: 0.4944\n",
            "Epoch 51/100\n",
            "36/36 [==============================] - 51s 1s/step - loss: 0.8984 - acc: 0.5772 - val_loss: 1.0014 - val_acc: 0.5299\n",
            "Epoch 52/100\n",
            "36/36 [==============================] - 51s 1s/step - loss: 0.8959 - acc: 0.5836 - val_loss: 1.0277 - val_acc: 0.5226\n",
            "Epoch 53/100\n",
            "36/36 [==============================] - 51s 1s/step - loss: 0.8910 - acc: 0.5830 - val_loss: 1.1597 - val_acc: 0.4961\n",
            "Epoch 54/100\n",
            "36/36 [==============================] - 52s 1s/step - loss: 0.8978 - acc: 0.5803 - val_loss: 1.0259 - val_acc: 0.5082\n",
            "Epoch 55/100\n",
            "36/36 [==============================] - 51s 1s/step - loss: 0.8834 - acc: 0.5881 - val_loss: 1.0249 - val_acc: 0.5208\n",
            "Epoch 56/100\n",
            "36/36 [==============================] - 51s 1s/step - loss: 0.8810 - acc: 0.5913 - val_loss: 1.1016 - val_acc: 0.4996\n",
            "Epoch 57/100\n",
            "36/36 [==============================] - 51s 1s/step - loss: 0.8802 - acc: 0.5901 - val_loss: 1.0998 - val_acc: 0.4935\n",
            "Epoch 58/100\n",
            "36/36 [==============================] - 51s 1s/step - loss: 0.8794 - acc: 0.5911 - val_loss: 1.0000 - val_acc: 0.5208\n",
            "Epoch 59/100\n",
            "36/36 [==============================] - 51s 1s/step - loss: 0.8683 - acc: 0.5977 - val_loss: 1.1898 - val_acc: 0.4835\n",
            "Epoch 60/100\n",
            "36/36 [==============================] - 51s 1s/step - loss: 0.8726 - acc: 0.5944 - val_loss: 1.0388 - val_acc: 0.5352\n",
            "Epoch 61/100\n",
            "36/36 [==============================] - 51s 1s/step - loss: 0.8654 - acc: 0.6009 - val_loss: 1.0100 - val_acc: 0.5365\n",
            "Epoch 62/100\n",
            "36/36 [==============================] - 51s 1s/step - loss: 0.8629 - acc: 0.6036 - val_loss: 1.0316 - val_acc: 0.5113\n",
            "Epoch 63/100\n",
            "36/36 [==============================] - 51s 1s/step - loss: 0.8604 - acc: 0.6020 - val_loss: 1.1236 - val_acc: 0.4792\n",
            "Epoch 64/100\n",
            "36/36 [==============================] - 51s 1s/step - loss: 0.8457 - acc: 0.6138 - val_loss: 1.1104 - val_acc: 0.5061\n",
            "Epoch 65/100\n",
            "36/36 [==============================] - 51s 1s/step - loss: 0.8579 - acc: 0.6017 - val_loss: 1.0415 - val_acc: 0.5122\n",
            "Epoch 66/100\n",
            "36/36 [==============================] - 51s 1s/step - loss: 0.8434 - acc: 0.6185 - val_loss: 1.0267 - val_acc: 0.5230\n",
            "Epoch 67/100\n",
            "36/36 [==============================] - 51s 1s/step - loss: 0.8488 - acc: 0.6076 - val_loss: 1.0308 - val_acc: 0.5217\n",
            "Epoch 68/100\n",
            "36/36 [==============================] - 51s 1s/step - loss: 0.8404 - acc: 0.6147 - val_loss: 1.1576 - val_acc: 0.4926\n",
            "Epoch 69/100\n",
            "36/36 [==============================] - 51s 1s/step - loss: 0.8406 - acc: 0.6185 - val_loss: 1.0699 - val_acc: 0.5312\n",
            "Epoch 70/100\n",
            "36/36 [==============================] - 51s 1s/step - loss: 0.8341 - acc: 0.6209 - val_loss: 1.0389 - val_acc: 0.5286\n",
            "Epoch 71/100\n",
            "36/36 [==============================] - 51s 1s/step - loss: 0.8211 - acc: 0.6187 - val_loss: 1.0978 - val_acc: 0.5074\n",
            "Epoch 72/100\n",
            "36/36 [==============================] - 51s 1s/step - loss: 0.8210 - acc: 0.6251 - val_loss: 1.0967 - val_acc: 0.5312\n",
            "Epoch 73/100\n",
            "36/36 [==============================] - 51s 1s/step - loss: 0.8269 - acc: 0.6260 - val_loss: 1.1498 - val_acc: 0.5039\n",
            "Epoch 74/100\n",
            "36/36 [==============================] - 51s 1s/step - loss: 0.8142 - acc: 0.6335 - val_loss: 1.1214 - val_acc: 0.5200\n",
            "Epoch 75/100\n",
            "36/36 [==============================] - 51s 1s/step - loss: 0.8102 - acc: 0.6306 - val_loss: 1.0642 - val_acc: 0.5395\n",
            "Epoch 76/100\n",
            "36/36 [==============================] - 51s 1s/step - loss: 0.8185 - acc: 0.6295 - val_loss: 1.0943 - val_acc: 0.4987\n",
            "Epoch 77/100\n",
            "36/36 [==============================] - 51s 1s/step - loss: 0.8011 - acc: 0.6424 - val_loss: 1.1372 - val_acc: 0.5260\n",
            "Epoch 78/100\n",
            "36/36 [==============================] - 51s 1s/step - loss: 0.8105 - acc: 0.6325 - val_loss: 1.0768 - val_acc: 0.5356\n",
            "Epoch 79/100\n",
            "36/36 [==============================] - 51s 1s/step - loss: 0.8036 - acc: 0.6385 - val_loss: 1.0966 - val_acc: 0.5265\n",
            "Epoch 80/100\n",
            "36/36 [==============================] - 51s 1s/step - loss: 0.8043 - acc: 0.6424 - val_loss: 1.1448 - val_acc: 0.5030\n",
            "Epoch 81/100\n",
            "36/36 [==============================] - 51s 1s/step - loss: 0.8040 - acc: 0.6345 - val_loss: 1.2477 - val_acc: 0.4761\n",
            "Epoch 82/100\n",
            "36/36 [==============================] - 51s 1s/step - loss: 0.7893 - acc: 0.6479 - val_loss: 1.1278 - val_acc: 0.4844\n",
            "Epoch 83/100\n",
            "36/36 [==============================] - 52s 1s/step - loss: 0.7863 - acc: 0.6483 - val_loss: 1.1775 - val_acc: 0.5195\n",
            "Epoch 84/100\n",
            "36/36 [==============================] - 51s 1s/step - loss: 0.7761 - acc: 0.6566 - val_loss: 1.1466 - val_acc: 0.5135\n",
            "Epoch 85/100\n",
            "36/36 [==============================] - 51s 1s/step - loss: 0.7800 - acc: 0.6555 - val_loss: 1.0699 - val_acc: 0.5308\n",
            "Epoch 86/100\n",
            "36/36 [==============================] - 51s 1s/step - loss: 0.7723 - acc: 0.6525 - val_loss: 1.2883 - val_acc: 0.5078\n",
            "Epoch 87/100\n",
            "36/36 [==============================] - 51s 1s/step - loss: 0.7670 - acc: 0.6612 - val_loss: 1.1199 - val_acc: 0.5334\n",
            "Epoch 88/100\n",
            "36/36 [==============================] - 51s 1s/step - loss: 0.7727 - acc: 0.6622 - val_loss: 1.1130 - val_acc: 0.5317\n",
            "Epoch 89/100\n",
            "36/36 [==============================] - 51s 1s/step - loss: 0.7654 - acc: 0.6674 - val_loss: 1.2029 - val_acc: 0.5308\n",
            "Epoch 90/100\n",
            "36/36 [==============================] - 51s 1s/step - loss: 0.7579 - acc: 0.6642 - val_loss: 1.1718 - val_acc: 0.5078\n",
            "Epoch 91/100\n",
            "36/36 [==============================] - 51s 1s/step - loss: 0.7558 - acc: 0.6645 - val_loss: 1.1498 - val_acc: 0.5100\n",
            "Epoch 92/100\n",
            "36/36 [==============================] - 50s 1s/step - loss: 0.7464 - acc: 0.6742 - val_loss: 1.2232 - val_acc: 0.5139\n",
            "Epoch 93/100\n",
            "36/36 [==============================] - 51s 1s/step - loss: 0.7601 - acc: 0.6645 - val_loss: 1.1205 - val_acc: 0.5213\n",
            "Epoch 94/100\n",
            "36/36 [==============================] - 50s 1s/step - loss: 0.7336 - acc: 0.6763 - val_loss: 1.2523 - val_acc: 0.5130\n",
            "Epoch 95/100\n",
            "36/36 [==============================] - 51s 1s/step - loss: 0.7322 - acc: 0.6727 - val_loss: 1.1779 - val_acc: 0.5369\n",
            "Epoch 96/100\n",
            "36/36 [==============================] - 51s 1s/step - loss: 0.7349 - acc: 0.6811 - val_loss: 1.3190 - val_acc: 0.5087\n",
            "Epoch 97/100\n",
            "36/36 [==============================] - 51s 1s/step - loss: 0.7246 - acc: 0.6878 - val_loss: 1.2211 - val_acc: 0.5104\n",
            "Epoch 98/100\n",
            "36/36 [==============================] - 51s 1s/step - loss: 0.7227 - acc: 0.6860 - val_loss: 1.2951 - val_acc: 0.5169\n",
            "Epoch 99/100\n",
            "36/36 [==============================] - 51s 1s/step - loss: 0.7265 - acc: 0.6836 - val_loss: 1.4146 - val_acc: 0.4948\n",
            "Epoch 100/100\n",
            "36/36 [==============================] - 51s 1s/step - loss: 0.7094 - acc: 0.6960 - val_loss: 1.1883 - val_acc: 0.5317\n"
          ],
          "name": "stdout"
        }
      ]
    },
    {
      "cell_type": "code",
      "metadata": {
        "id": "lhavCpHYRVBA",
        "colab_type": "code",
        "outputId": "053a6306-181e-4200-f511-eadd2ddf835a",
        "colab": {
          "base_uri": "https://localhost:8080/",
          "height": 299
        }
      },
      "source": [
        "%matplotlib inline\n",
        "import matplotlib.pyplot as plt\n",
        "acc = history.history['acc']\n",
        "val_acc = history.history['val_acc']\n",
        "loss = history.history['loss']\n",
        "val_loss = history.history['val_loss']\n",
        "\n",
        "epochs = range(len(acc))\n",
        "\n",
        "plt.plot(epochs, acc, 'g', label='Training accuracy')\n",
        "plt.plot(epochs, val_acc, 'b', label='Validation accuracy')\n",
        "plt.title('Training and validation accuracy')\n",
        "plt.savefig('plot2.png')\n",
        "plt.legend(loc=0)\n",
        "plt.figure()\n",
        "plt.show()"
      ],
      "execution_count": 60,
      "outputs": [
        {
          "output_type": "display_data",
          "data": {
            "image/png": "[encoded data removed]",
            "text/plain": [
              "<Figure size 432x288 with 1 Axes>"
            ]
          },
          "metadata": {
            "tags": [],
            "needs_background": "light"
          }
        },
        {
          "output_type": "display_data",
          "data": {
            "text/plain": [
              "<Figure size 432x288 with 0 Axes>"
            ]
          },
          "metadata": {
            "tags": []
          }
        }
      ]
    },
    {
      "cell_type": "code",
      "metadata": {
        "id": "088RZtjPmON2",
        "colab_type": "code",
        "colab": {
          "resources": {
            "http://localhost:8080/nbextensions/google.colab/files.js": {
              "data": "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",
              "ok": true,
              "headers": [
                [
                  "content-type",
                  "application/javascript"
                ]
              ],
              "status": 200,
              "status_text": ""
            }
          },
          "base_uri": "https://localhost:8080/",
          "height": 93
        },
        "outputId": "c57dba6e-7439-4cf0-8464-bc50c8e3d7cc"
      },
      "source": [
        "# Here's a codeblock just for fun. You should be able to upload an image here \n",
        "# and have it classified without crashing\n",
        "\n",
        "import numpy as np\n",
        "from google.colab import files\n",
        "from keras.preprocessing import image\n",
        "\n",
        "uploaded = files.upload()\n",
        "\n",
        "for fn in uploaded.keys():\n",
        " \n",
        "  # predicting images\n",
        "  path = '/content/' + fn\n",
        "  img = image.load_img(path, target_size=(150, 150))\n",
        "  x = image.img_to_array(img)\n",
        "  x = np.expand_dims(x, axis=0)\n",
        "\n",
        "  images = np.vstack([x])\n",
        "  classes = model.predict(images, batch_size=256)\n",
        "  print(classes)"
      ],
      "execution_count": 73,
      "outputs": [
        {
          "output_type": "display_data",
          "data": {
            "text/html": [
              "\n",
              "     <input type=\"file\" id=\"files-f2885ca7-9858-4d9e-a3f8-21c329b32c7f\" name=\"files[]\" multiple disabled />\n",
              "     <output id=\"result-f2885ca7-9858-4d9e-a3f8-21c329b32c7f\">\n",
              "      Upload widget is only available when the cell has been executed in the\n",
              "      current browser session. Please rerun this cell to enable.\n",
              "      </output>\n",
              "      <script src=\"/nbextensions/google.colab/files.js\"></script> "
            ],
            "text/plain": [
              "<IPython.core.display.HTML object>"
            ]
          },
          "metadata": {
            "tags": []
          }
        },
        {
          "output_type": "stream",
          "text": [
            "Saving Littleman(2006).jpg to Littleman(2006).jpg\n",
            "[[0. 1. 0.]]\n"
          ],
          "name": "stdout"
        }
      ]
    },
    {
      "cell_type": "code",
      "metadata": {
        "id": "dVBdNpFsl1ad",
        "colab_type": "code",
        "colab": {}
      },
      "source": [
        ""
      ],
      "execution_count": 0,
      "outputs": []
    }
  ]
}
